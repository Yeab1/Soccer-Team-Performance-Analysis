{
 "cells": [
  {
   "cell_type": "code",
   "execution_count": 2,
   "metadata": {},
   "outputs": [],
   "source": [
    "import pandas as pd"
   ]
  },
  {
   "cell_type": "code",
   "execution_count": 20,
   "metadata": {},
   "outputs": [
    {
     "data": {
      "text/html": [
       "<div>\n",
       "<style scoped>\n",
       "    .dataframe tbody tr th:only-of-type {\n",
       "        vertical-align: middle;\n",
       "    }\n",
       "\n",
       "    .dataframe tbody tr th {\n",
       "        vertical-align: top;\n",
       "    }\n",
       "\n",
       "    .dataframe thead th {\n",
       "        text-align: right;\n",
       "    }\n",
       "</style>\n",
       "<table border=\"1\" class=\"dataframe\">\n",
       "  <thead>\n",
       "    <tr style=\"text-align: right;\">\n",
       "      <th></th>\n",
       "      <th>MatchID</th>\n",
       "      <th>TeamID</th>\n",
       "      <th>OriginPlayerID</th>\n",
       "      <th>DestinationPlayerID</th>\n",
       "      <th>MatchPeriod</th>\n",
       "      <th>EventTime</th>\n",
       "      <th>EventSubType</th>\n",
       "      <th>EventOrigin_x</th>\n",
       "      <th>EventOrigin_y</th>\n",
       "      <th>EventDestination_x</th>\n",
       "      <th>EventDestination_y</th>\n",
       "    </tr>\n",
       "  </thead>\n",
       "  <tbody>\n",
       "    <tr>\n",
       "      <th>0</th>\n",
       "      <td>1</td>\n",
       "      <td>Huskies</td>\n",
       "      <td>Huskies_D1</td>\n",
       "      <td>Huskies_F1</td>\n",
       "      <td>1H</td>\n",
       "      <td>46.323501</td>\n",
       "      <td>Head pass</td>\n",
       "      <td>34</td>\n",
       "      <td>97</td>\n",
       "      <td>59.0</td>\n",
       "      <td>95.0</td>\n",
       "    </tr>\n",
       "    <tr>\n",
       "      <th>1</th>\n",
       "      <td>1</td>\n",
       "      <td>Huskies</td>\n",
       "      <td>Huskies_M1</td>\n",
       "      <td>Huskies_F2</td>\n",
       "      <td>1H</td>\n",
       "      <td>51.022546</td>\n",
       "      <td>Simple pass</td>\n",
       "      <td>53</td>\n",
       "      <td>89</td>\n",
       "      <td>69.0</td>\n",
       "      <td>91.0</td>\n",
       "    </tr>\n",
       "    <tr>\n",
       "      <th>2</th>\n",
       "      <td>1</td>\n",
       "      <td>Opponent1</td>\n",
       "      <td>Opponent1_D2</td>\n",
       "      <td>Opponent1_G1</td>\n",
       "      <td>1H</td>\n",
       "      <td>89.008721</td>\n",
       "      <td>Simple pass</td>\n",
       "      <td>19</td>\n",
       "      <td>16</td>\n",
       "      <td>5.0</td>\n",
       "      <td>50.0</td>\n",
       "    </tr>\n",
       "    <tr>\n",
       "      <th>3</th>\n",
       "      <td>1</td>\n",
       "      <td>Opponent1</td>\n",
       "      <td>Opponent1_G1</td>\n",
       "      <td>Opponent1_F1</td>\n",
       "      <td>1H</td>\n",
       "      <td>92.216160</td>\n",
       "      <td>Launch</td>\n",
       "      <td>5</td>\n",
       "      <td>50</td>\n",
       "      <td>67.0</td>\n",
       "      <td>44.0</td>\n",
       "    </tr>\n",
       "    <tr>\n",
       "      <th>4</th>\n",
       "      <td>1</td>\n",
       "      <td>Huskies</td>\n",
       "      <td>Huskies_M2</td>\n",
       "      <td>Huskies_M3</td>\n",
       "      <td>1H</td>\n",
       "      <td>98.265191</td>\n",
       "      <td>Simple pass</td>\n",
       "      <td>42</td>\n",
       "      <td>55</td>\n",
       "      <td>36.0</td>\n",
       "      <td>54.0</td>\n",
       "    </tr>\n",
       "  </tbody>\n",
       "</table>\n",
       "</div>"
      ],
      "text/plain": [
       "   MatchID     TeamID OriginPlayerID DestinationPlayerID MatchPeriod  \\\n",
       "0        1    Huskies     Huskies_D1          Huskies_F1          1H   \n",
       "1        1    Huskies     Huskies_M1          Huskies_F2          1H   \n",
       "2        1  Opponent1   Opponent1_D2        Opponent1_G1          1H   \n",
       "3        1  Opponent1   Opponent1_G1        Opponent1_F1          1H   \n",
       "4        1    Huskies     Huskies_M2          Huskies_M3          1H   \n",
       "\n",
       "   EventTime EventSubType  EventOrigin_x  EventOrigin_y  EventDestination_x  \\\n",
       "0  46.323501    Head pass             34             97                59.0   \n",
       "1  51.022546  Simple pass             53             89                69.0   \n",
       "2  89.008721  Simple pass             19             16                 5.0   \n",
       "3  92.216160       Launch              5             50                67.0   \n",
       "4  98.265191  Simple pass             42             55                36.0   \n",
       "\n",
       "   EventDestination_y  \n",
       "0                95.0  \n",
       "1                91.0  \n",
       "2                50.0  \n",
       "3                44.0  \n",
       "4                54.0  "
      ]
     },
     "execution_count": 20,
     "metadata": {},
     "output_type": "execute_result"
    }
   ],
   "source": [
    "data = pd.read_csv (r'C:\\\\Users\\\\Yeab\\\\Desktop\\\\MATH 327 Term Project\\\\2020_Problem_D_DATA\\\\passingevents.csv')\n",
    "df = pd.DataFrame(data)\n",
    "df.head()"
   ]
  },
  {
   "cell_type": "code",
   "execution_count": 18,
   "metadata": {},
   "outputs": [
    {
     "data": {
      "text/plain": [
       "567"
      ]
     },
     "execution_count": 18,
     "metadata": {},
     "output_type": "execute_result"
    }
   ],
   "source": [
    "count = 0\n",
    "for i in range(len(df.MatchID)):\n",
    "    count+=1\n",
    "    if (df.MatchID[i] == 2):\n",
    "        break;\n",
    "count"
   ]
  },
  {
   "cell_type": "code",
   "execution_count": 24,
   "metadata": {},
   "outputs": [],
   "source": [
    "game1 = df.iloc[0:566,]"
   ]
  },
  {
   "cell_type": "code",
   "execution_count": 25,
   "metadata": {},
   "outputs": [
    {
     "data": {
      "text/plain": [
       "14"
      ]
     },
     "execution_count": 25,
     "metadata": {},
     "output_type": "execute_result"
    }
   ],
   "source": [
    "newArr = []\n",
    "arr = game1.OriginPlayerID.unique()\n",
    "for i in range(len(arr)):\n",
    "    if (arr[i].startswith(\"Huskies\")):\n",
    "        newArr.append(arr[i])  \n",
    "len(newArr)"
   ]
  },
  {
   "cell_type": "code",
   "execution_count": 28,
   "metadata": {},
   "outputs": [
    {
     "data": {
      "text/plain": [
       "[[0, 0, 0, 0, 0, 0, 0, 0, 0, 0, 0, 0, 0, 0],\n",
       " [0, 0, 0, 0, 0, 0, 0, 0, 0, 0, 0, 0, 0, 0]]"
      ]
     },
     "execution_count": 28,
     "metadata": {},
     "output_type": "execute_result"
    }
   ],
   "source": [
    "network = [[],[]]\n",
    "for i in range(2):\n",
    "    for j in range(14):\n",
    "        network[i].append(0) \n",
    "        \n",
    "network"
   ]
  }
 ],
 "metadata": {
  "kernelspec": {
   "display_name": "Python 3",
   "language": "python",
   "name": "python3"
  },
  "language_info": {
   "codemirror_mode": {
    "name": "ipython",
    "version": 3
   },
   "file_extension": ".py",
   "mimetype": "text/x-python",
   "name": "python",
   "nbconvert_exporter": "python",
   "pygments_lexer": "ipython3",
   "version": "3.7.1"
  }
 },
 "nbformat": 4,
 "nbformat_minor": 2
}
